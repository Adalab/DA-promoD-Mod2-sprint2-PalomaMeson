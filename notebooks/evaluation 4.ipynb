{
 "cells": [
  {
   "attachments": {},
   "cell_type": "markdown",
   "metadata": {},
   "source": [
    "# EVALUACIÓN MODULO 2 SPRINT 2\n",
    "### Paloma Mesón"
   ]
  },
  {
   "attachments": {},
   "cell_type": "markdown",
   "metadata": {},
   "source": [
    "OBJETIVO: Identificar todas las universidades ubicadas en tres países específicos: Estados Unidos, Canadá y Argentina."
   ]
  },
  {
   "cell_type": "code",
   "execution_count": 1,
   "metadata": {},
   "outputs": [],
   "source": [
    "# importamos las librerias\n",
    "import pandas as pd\n",
    "import sys\n",
    "\n",
    "sys.path.append(\"../\")\n",
    "from src import back_universities as bu"
   ]
  },
  {
   "attachments": {},
   "cell_type": "markdown",
   "metadata": {},
   "source": [
    "### EXTRACCIÓN Y LIMPIEZA DE DATOS"
   ]
  },
  {
   "attachments": {},
   "cell_type": "markdown",
   "metadata": {},
   "source": [
    "1. Crearemos nuestro dataframe con los datos extraidos de la API  \"Universities Hipolabs\"."
   ]
  },
  {
   "cell_type": "code",
   "execution_count": 2,
   "metadata": {},
   "outputs": [],
   "source": [
    "# creamos una lista con los paises de los que queremos extraer los datos de las universidades\n",
    "country_list = ['United States', 'Canada', 'Argentina']"
   ]
  },
  {
   "cell_type": "code",
   "execution_count": 3,
   "metadata": {},
   "outputs": [],
   "source": [
    "# llamamos a la clase de extracción y creamos el dataframe\n",
    "ext = bu.Extraction(country_list)\n",
    "df_uni = ext.create_dataframe()"
   ]
  },
  {
   "cell_type": "code",
   "execution_count": 4,
   "metadata": {},
   "outputs": [
    {
     "name": "stdout",
     "output_type": "stream",
     "text": [
      "<class 'pandas.core.frame.DataFrame'>\n",
      "RangeIndex: 2522 entries, 0 to 2521\n",
      "Data columns (total 6 columns):\n",
      " #   Column          Non-Null Count  Dtype \n",
      "---  ------          --------------  ----- \n",
      " 0   state-province  273 non-null    object\n",
      " 1   domains         2522 non-null   object\n",
      " 2   name            2522 non-null   object\n",
      " 3   country         2522 non-null   object\n",
      " 4   web_pages       2522 non-null   object\n",
      " 5   alpha_two_code  2522 non-null   object\n",
      "dtypes: object(6)\n",
      "memory usage: 118.3+ KB\n"
     ]
    }
   ],
   "source": [
    "# Comprobamos que la información se ha descargado correctamente\n",
    "df_uni.info()"
   ]
  },
  {
   "cell_type": "code",
   "execution_count": 5,
   "metadata": {},
   "outputs": [],
   "source": [
    "# procedemos a la limpieza del dataframe, para ello primero debemos llamar a la clase\n",
    "clean = bu.Clean_Dataframe(df_uni) "
   ]
  },
  {
   "cell_type": "code",
   "execution_count": 6,
   "metadata": {},
   "outputs": [],
   "source": [
    "# y pasamos la funcion de limpieza definida en nuestra clase, sobreescribiendo el dataframe\n",
    "df_uni = clean.clean_df()"
   ]
  },
  {
   "cell_type": "code",
   "execution_count": 7,
   "metadata": {},
   "outputs": [
    {
     "data": {
      "text/html": [
       "<div>\n",
       "<style scoped>\n",
       "    .dataframe tbody tr th:only-of-type {\n",
       "        vertical-align: middle;\n",
       "    }\n",
       "\n",
       "    .dataframe tbody tr th {\n",
       "        vertical-align: top;\n",
       "    }\n",
       "\n",
       "    .dataframe thead th {\n",
       "        text-align: right;\n",
       "    }\n",
       "</style>\n",
       "<table border=\"1\" class=\"dataframe\">\n",
       "  <thead>\n",
       "    <tr style=\"text-align: right;\">\n",
       "      <th></th>\n",
       "      <th>country</th>\n",
       "      <th>state_province</th>\n",
       "      <th>name</th>\n",
       "      <th>web_pages</th>\n",
       "      <th>alpha_two_code</th>\n",
       "    </tr>\n",
       "  </thead>\n",
       "  <tbody>\n",
       "    <tr>\n",
       "      <th>847</th>\n",
       "      <td>United States</td>\n",
       "      <td>Uknown</td>\n",
       "      <td>South Texas College of Law</td>\n",
       "      <td>http://www.stcl.edu/</td>\n",
       "      <td>US</td>\n",
       "    </tr>\n",
       "    <tr>\n",
       "      <th>585</th>\n",
       "      <td>United States</td>\n",
       "      <td>Uknown</td>\n",
       "      <td>Marymount Manhattan College</td>\n",
       "      <td>http://www.mmm.edu/</td>\n",
       "      <td>US</td>\n",
       "    </tr>\n",
       "    <tr>\n",
       "      <th>264</th>\n",
       "      <td>United States</td>\n",
       "      <td>Uknown</td>\n",
       "      <td>Central Connecticut State University</td>\n",
       "      <td>http://www.ccsu.edu/</td>\n",
       "      <td>US</td>\n",
       "    </tr>\n",
       "  </tbody>\n",
       "</table>\n",
       "</div>"
      ],
      "text/plain": [
       "           country state_province                                  name   \n",
       "847  United States         Uknown            South Texas College of Law  \\\n",
       "585  United States         Uknown           Marymount Manhattan College   \n",
       "264  United States         Uknown  Central Connecticut State University   \n",
       "\n",
       "                web_pages alpha_two_code  \n",
       "847  http://www.stcl.edu/             US  \n",
       "585   http://www.mmm.edu/             US  \n",
       "264  http://www.ccsu.edu/             US  "
      ]
     },
     "execution_count": 7,
     "metadata": {},
     "output_type": "execute_result"
    }
   ],
   "source": [
    "# comprobamos que se ha limpiado correctamente\n",
    "df_uni.sample(3)"
   ]
  },
  {
   "cell_type": "code",
   "execution_count": 8,
   "metadata": {},
   "outputs": [
    {
     "data": {
      "text/plain": [
       "array(['Uknown', 'Pennsylvania', 'Nevada', 'Iowa', 'Virginia', 'Texas',\n",
       "       'Colorado', 'Indicanapolis', 'California', 'South Carolina',\n",
       "       'Washington', 'New York', 'North Dacota', 'Michigan', 'Ohio',\n",
       "       'Florida', 'North Carolina', 'Georgia', 'Quebec', 'Ontario',\n",
       "       'Nova Scotia', 'British Columbia', 'Alberta', 'Manitoba',\n",
       "       'New Brunswick', 'Saskatchewan', 'Newfoundland and Labrador',\n",
       "       'Prince Edward Island', 'Yukon', 'Buenos Aires', 'Entre Ríos',\n",
       "       'Salta', 'Córdoba', 'Mendoza', 'Santa Fé', 'Santiago Del Estero',\n",
       "       'Misiones', 'Catamarca', 'Formosa', 'Jujuy', 'La Rioja',\n",
       "       'La Pampa', 'San Juan', 'San Luis', 'Tucumán'], dtype=object)"
      ]
     },
     "execution_count": 8,
     "metadata": {},
     "output_type": "execute_result"
    }
   ],
   "source": [
    "df_uni['state_province'].unique()"
   ]
  },
  {
   "cell_type": "code",
   "execution_count": 9,
   "metadata": {},
   "outputs": [],
   "source": [
    "# ahora añadiremos una columna con la latitud y la longitud para completar la información. Nuevamente, sobreescribimos el dataframe:\n",
    "df_uni = clean.lat_lon('paloma')"
   ]
  },
  {
   "cell_type": "code",
   "execution_count": 10,
   "metadata": {},
   "outputs": [
    {
     "data": {
      "text/html": [
       "<div>\n",
       "<style scoped>\n",
       "    .dataframe tbody tr th:only-of-type {\n",
       "        vertical-align: middle;\n",
       "    }\n",
       "\n",
       "    .dataframe tbody tr th {\n",
       "        vertical-align: top;\n",
       "    }\n",
       "\n",
       "    .dataframe thead th {\n",
       "        text-align: right;\n",
       "    }\n",
       "</style>\n",
       "<table border=\"1\" class=\"dataframe\">\n",
       "  <thead>\n",
       "    <tr style=\"text-align: right;\">\n",
       "      <th></th>\n",
       "      <th>country</th>\n",
       "      <th>state_province</th>\n",
       "      <th>name</th>\n",
       "      <th>web_pages</th>\n",
       "      <th>alpha_two_code</th>\n",
       "      <th>coordinates</th>\n",
       "    </tr>\n",
       "  </thead>\n",
       "  <tbody>\n",
       "    <tr>\n",
       "      <th>2346</th>\n",
       "      <td>Canada</td>\n",
       "      <td>Ontario</td>\n",
       "      <td>Ontario College of Art and Design</td>\n",
       "      <td>http://www.ocad.ca/</td>\n",
       "      <td>CA</td>\n",
       "      <td>(50.000678, -86.000977)</td>\n",
       "    </tr>\n",
       "    <tr>\n",
       "      <th>2442</th>\n",
       "      <td>Argentina</td>\n",
       "      <td>Buenos Aires</td>\n",
       "      <td>Instituto Universitario Aeronáutico</td>\n",
       "      <td>http://www.iua.edu.ar/</td>\n",
       "      <td>AR</td>\n",
       "      <td>(-34.6075682, -58.4370894)</td>\n",
       "    </tr>\n",
       "    <tr>\n",
       "      <th>2520</th>\n",
       "      <td>Argentina</td>\n",
       "      <td>Buenos Aires</td>\n",
       "      <td>Universidad Abierta Interamericana</td>\n",
       "      <td>http://www.vaneduc.edu.ar/uai/</td>\n",
       "      <td>AR</td>\n",
       "      <td>(-34.6075682, -58.4370894)</td>\n",
       "    </tr>\n",
       "  </tbody>\n",
       "</table>\n",
       "</div>"
      ],
      "text/plain": [
       "        country state_province                                 name   \n",
       "2346     Canada        Ontario    Ontario College of Art and Design  \\\n",
       "2442  Argentina   Buenos Aires  Instituto Universitario Aeronáutico   \n",
       "2520  Argentina   Buenos Aires   Universidad Abierta Interamericana   \n",
       "\n",
       "                           web_pages alpha_two_code   \n",
       "2346             http://www.ocad.ca/             CA  \\\n",
       "2442          http://www.iua.edu.ar/             AR   \n",
       "2520  http://www.vaneduc.edu.ar/uai/             AR   \n",
       "\n",
       "                     coordinates  \n",
       "2346     (50.000678, -86.000977)  \n",
       "2442  (-34.6075682, -58.4370894)  \n",
       "2520  (-34.6075682, -58.4370894)  "
      ]
     },
     "execution_count": 10,
     "metadata": {},
     "output_type": "execute_result"
    }
   ],
   "source": [
    "# comprobamos que los datos se han actualizado correctamente\n",
    "df_uni[df_uni['coordinates'] != 'Unknown'].sample(3)"
   ]
  },
  {
   "cell_type": "code",
   "execution_count": 11,
   "metadata": {},
   "outputs": [],
   "source": [
    "# Por último, guardamos los datos en un csv.\n",
    "clean.save_df('df_uni')"
   ]
  },
  {
   "attachments": {},
   "cell_type": "markdown",
   "metadata": {},
   "source": [
    "--------------------------------------------------------------------------------------------"
   ]
  },
  {
   "attachments": {},
   "cell_type": "markdown",
   "metadata": {},
   "source": [
    "### CREACIÓN DE BASES DE DATOS E INSERCIÓN DE DATOS"
   ]
  },
  {
   "cell_type": "code",
   "execution_count": 12,
   "metadata": {},
   "outputs": [],
   "source": [
    "# llamamos a la clase de creación en inserción de datos en DDBB\n",
    "ddbb = bu.Create_Database() "
   ]
  },
  {
   "cell_type": "code",
   "execution_count": 13,
   "metadata": {},
   "outputs": [
    {
     "name": "stdout",
     "output_type": "stream",
     "text": [
      "Connected to MySQL\n",
      "Data Base created correctly\n"
     ]
    }
   ],
   "source": [
    "# creamos la base de datos\n",
    "ddbb.create_ddbb()"
   ]
  },
  {
   "cell_type": "code",
   "execution_count": 14,
   "metadata": {},
   "outputs": [],
   "source": [
    "# creamos las tablas utilizando las queries guardadas en nuestro documento de soporte\n",
    "ddbb.insert_table(bu.query_country)\n",
    "ddbb.insert_table(bu.query_universities)"
   ]
  },
  {
   "cell_type": "code",
   "execution_count": 15,
   "metadata": {},
   "outputs": [],
   "source": [
    "# insertamos primero los datos de la tabla de los paises/estados debido a que no tiene Foreign Keys\n",
    "list_states_final = []\n",
    "# creamos una lista vacía que nos servirá para llevar el conteo de los estados incluidos en la bbdd y así no repetirlos, dado que queremos que cada uno esté asociado a un ID\n",
    "\n",
    "for indice, fila in df_uni.iterrows():\n",
    "    \n",
    "    if len(list_states_final) == 0 or fila['state_province'] not in list_states_final:\n",
    "        if 'U' in fila['coordinates']:\n",
    "            query_uknown = f\"\"\"\n",
    "                INSERT INTO countries (country_name, state_name, latitud, longitud)\n",
    "                VALUES ( \"{fila['country']}\", \"{fila['state_province']}\", \"0\", \"0\");\n",
    "                \"\"\"\n",
    "            ddbb.insert_table(query_uknown)\n",
    "            list_states_final.append('Uknown')\n",
    "        \n",
    "        else:\n",
    "            query_country = f\"\"\"\n",
    "                    INSERT INTO countries (country_name, state_name, latitud, longitud)\n",
    "                    VALUES ( \"{fila['country']}\", \"{fila['state_province']}\", \"{float(fila['coordinates'][0])}\", \"{float(fila['coordinates'][1])}\");\n",
    "                    \"\"\"\n",
    "            ddbb.insert_table(query_country)\n",
    "            list_states_final.append(fila['state_province'])\n",
    "    else:\n",
    "        pass"
   ]
  },
  {
   "cell_type": "code",
   "execution_count": 16,
   "metadata": {},
   "outputs": [],
   "source": [
    "# antes de insertar los datos de la segunda tabla, necesitamos extraer los IDs asociados a cada estado para poder incluirlos como Foreign Key en la tabla con las universidades\n",
    "dict_idstates = {}\n",
    "# En un diccionario nueco iremos asociando estado a ID. Para iterar, utilizaremos la lista creada en el apartado anterior, con los nombres de cada Estado no repetidos\n",
    "for state in list_states_final:\n",
    "    id_state = ddbb.get_idstate(state)\n",
    "    dict_idstates[state] = id_state"
   ]
  },
  {
   "cell_type": "code",
   "execution_count": 17,
   "metadata": {},
   "outputs": [],
   "source": [
    "# una vez tenemos el diccionario, lo podemos convertir a dataframe para después unirlo con nuestro dataframe\n",
    "df_idstate = pd.DataFrame.from_dict(dict_idstates, orient='index', columns=['idstate']).reset_index()"
   ]
  },
  {
   "cell_type": "code",
   "execution_count": 18,
   "metadata": {},
   "outputs": [],
   "source": [
    "# actualizamos el dataframe y eliminamos las columnas que no nos interesan y limpiamos las columnas con errores\n",
    "df_final = df_uni.merge(df_idstate, left_on= 'state_province', right_on= 'index', how = 'left' )\n",
    "df_final.drop(columns = 'index', inplace = True)\n",
    "df_final['name'] = df_final['name'].apply(clean.clean_univesity_name)"
   ]
  },
  {
   "cell_type": "code",
   "execution_count": 19,
   "metadata": {},
   "outputs": [
    {
     "data": {
      "text/html": [
       "<div>\n",
       "<style scoped>\n",
       "    .dataframe tbody tr th:only-of-type {\n",
       "        vertical-align: middle;\n",
       "    }\n",
       "\n",
       "    .dataframe tbody tr th {\n",
       "        vertical-align: top;\n",
       "    }\n",
       "\n",
       "    .dataframe thead th {\n",
       "        text-align: right;\n",
       "    }\n",
       "</style>\n",
       "<table border=\"1\" class=\"dataframe\">\n",
       "  <thead>\n",
       "    <tr style=\"text-align: right;\">\n",
       "      <th></th>\n",
       "      <th>country</th>\n",
       "      <th>state_province</th>\n",
       "      <th>name</th>\n",
       "      <th>web_pages</th>\n",
       "      <th>alpha_two_code</th>\n",
       "      <th>coordinates</th>\n",
       "      <th>idstate</th>\n",
       "    </tr>\n",
       "  </thead>\n",
       "  <tbody>\n",
       "    <tr>\n",
       "      <th>2292</th>\n",
       "      <td>Canada</td>\n",
       "      <td>British Columbia</td>\n",
       "      <td>College of New Caledonia</td>\n",
       "      <td>http://www.cnc.bc.ca/</td>\n",
       "      <td>CA</td>\n",
       "      <td>(55.001251, -125.002441)</td>\n",
       "      <td>22.0</td>\n",
       "    </tr>\n",
       "    <tr>\n",
       "      <th>1202</th>\n",
       "      <td>United States</td>\n",
       "      <td>Uknown</td>\n",
       "      <td>Western State Colorado University</td>\n",
       "      <td>http://www.western.edu/</td>\n",
       "      <td>US</td>\n",
       "      <td>Unknown</td>\n",
       "      <td>1.0</td>\n",
       "    </tr>\n",
       "    <tr>\n",
       "      <th>1398</th>\n",
       "      <td>United States</td>\n",
       "      <td>Uknown</td>\n",
       "      <td>Reedley College</td>\n",
       "      <td>http://www.reedleycollege.edu</td>\n",
       "      <td>US</td>\n",
       "      <td>Unknown</td>\n",
       "      <td>1.0</td>\n",
       "    </tr>\n",
       "    <tr>\n",
       "      <th>1941</th>\n",
       "      <td>United States</td>\n",
       "      <td>Uknown</td>\n",
       "      <td>Chemeketa Community College</td>\n",
       "      <td>http://www.chemeketa.edu</td>\n",
       "      <td>US</td>\n",
       "      <td>Unknown</td>\n",
       "      <td>1.0</td>\n",
       "    </tr>\n",
       "    <tr>\n",
       "      <th>352</th>\n",
       "      <td>United States</td>\n",
       "      <td>Uknown</td>\n",
       "      <td>DeVry Institute of Technology</td>\n",
       "      <td>http://www.devry.edu/</td>\n",
       "      <td>US</td>\n",
       "      <td>Unknown</td>\n",
       "      <td>1.0</td>\n",
       "    </tr>\n",
       "  </tbody>\n",
       "</table>\n",
       "</div>"
      ],
      "text/plain": [
       "            country    state_province                               name   \n",
       "2292         Canada  British Columbia           College of New Caledonia  \\\n",
       "1202  United States            Uknown  Western State Colorado University   \n",
       "1398  United States            Uknown                    Reedley College   \n",
       "1941  United States            Uknown        Chemeketa Community College   \n",
       "352   United States            Uknown      DeVry Institute of Technology   \n",
       "\n",
       "                          web_pages alpha_two_code               coordinates   \n",
       "2292          http://www.cnc.bc.ca/             CA  (55.001251, -125.002441)  \\\n",
       "1202        http://www.western.edu/             US                   Unknown   \n",
       "1398  http://www.reedleycollege.edu             US                   Unknown   \n",
       "1941       http://www.chemeketa.edu             US                   Unknown   \n",
       "352           http://www.devry.edu/             US                   Unknown   \n",
       "\n",
       "      idstate  \n",
       "2292     22.0  \n",
       "1202      1.0  \n",
       "1398      1.0  \n",
       "1941      1.0  \n",
       "352       1.0  "
      ]
     },
     "execution_count": 19,
     "metadata": {},
     "output_type": "execute_result"
    }
   ],
   "source": [
    "df_final.sample(5)"
   ]
  },
  {
   "cell_type": "code",
   "execution_count": 20,
   "metadata": {},
   "outputs": [
    {
     "name": "stdout",
     "output_type": "stream",
     "text": [
      "1366 (HY000): Incorrect integer value: 'nan' for column 'idstate' at row 1\n",
      "Error Code: 1366\n",
      "SQLSTATE HY000\n",
      "Message Incorrect integer value: 'nan' for column 'idstate' at row 1\n"
     ]
    }
   ],
   "source": [
    "# Finalmente añadimos los datos de la segunda tabla. \n",
    "# Como MySQL Workbench no nos permite subir más de 1000 datos a nuestra tabla, optamos por prioridar aquellas de las que conocemos la provincia\n",
    "for _ , fila in df_final.iterrows():  \n",
    "    if fila['idstate'] != 1:\n",
    "        query_university = f\"\"\"\n",
    "            INSERT INTO university (university_name, web_page, idstate)\n",
    "            VALUES (\"{fila['name']}\", \"{fila['web_pages']}\", \"{fila['idstate']}\");\n",
    "                \"\"\"\n",
    "        ddbb.insert_table(query_university)\n",
    "    else:\n",
    "        pass"
   ]
  },
  {
   "cell_type": "code",
   "execution_count": 21,
   "metadata": {},
   "outputs": [],
   "source": [
    "# Y añadimos el resto de datos\n",
    "for _, fila in df_final.iterrows():  \n",
    "    if fila['idstate'] == 1:\n",
    "        query_university = f\"\"\"\n",
    "            INSERT INTO university (university_name, web_page, idstate)\n",
    "            VALUES (\"{fila['name']}\", \"{fila['web_pages']}\", \"{fila['idstate']}\");\n",
    "                \"\"\"\n",
    "        ddbb.insert_table(query_university)\n",
    "    else:\n",
    "        pass"
   ]
  },
  {
   "attachments": {},
   "cell_type": "markdown",
   "metadata": {},
   "source": [
    "-----------------------------------------------------------"
   ]
  }
 ],
 "metadata": {
  "kernelspec": {
   "display_name": ".venv",
   "language": "python",
   "name": "python3"
  },
  "language_info": {
   "codemirror_mode": {
    "name": "ipython",
    "version": 3
   },
   "file_extension": ".py",
   "mimetype": "text/x-python",
   "name": "python",
   "nbconvert_exporter": "python",
   "pygments_lexer": "ipython3",
   "version": "3.11.2"
  },
  "orig_nbformat": 4
 },
 "nbformat": 4,
 "nbformat_minor": 2
}
